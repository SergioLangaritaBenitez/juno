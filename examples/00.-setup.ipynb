{
 "cells": [
  {
   "cell_type": "code",
   "execution_count": null,
   "id": "5b3ad46c-4c4f-4f62-b0b7-e9a2e384ba00",
   "metadata": {},
   "outputs": [],
   "source": [
    "pip install oscar-python liboidcagent"
   ]
  },
  {
   "cell_type": "code",
   "execution_count": null,
   "id": "31e6925d-b065-47ba-b501-9d533445e8ec",
   "metadata": {},
   "outputs": [],
   "source": [
    "from oscar_python.client import Client\n",
    "import base64\n",
    "import os\n",
    "os.environ[\"OIDC_SOCK\"] = \"/tmp/oidc-agent-service-0/oidc-agent.sock\""
   ]
  },
  {
   "cell_type": "code",
   "execution_count": null,
   "id": "83499f80-67a2-48ef-b45c-4ff18f6f7d0e",
   "metadata": {},
   "outputs": [],
   "source": [
    "options_basic_auth = {'cluster_id':'cluster-id',\n",
    "                'endpoint':os.environ[\"OSCAR_ENDPOINT\"],\n",
    "                'shortname':'oscar-egi',\n",
    "                'ssl':'True'}\n",
    "\n",
    "\n",
    "client = Client(options = options_basic_auth)"
   ]
  },
  {
   "cell_type": "code",
   "execution_count": null,
   "id": "8e3d3dfe-7c64-4a8c-8e83-686c035acd0e",
   "metadata": {},
   "outputs": [],
   "source": [
    "err = client.create_service(\"cowsay.yaml\")\n",
    "err = client.create_service(\"body-async.yaml\")\n",
    "err = client.create_service(\"plant-sync.yaml\")"
   ]
  },
  {
   "cell_type": "code",
   "execution_count": null,
   "id": "fd360cb6-2eec-4685-9d6a-3a7c36b32dcb",
   "metadata": {},
   "outputs": [],
   "source": []
  }
 ],
 "metadata": {
  "kernelspec": {
   "display_name": "Python 3 (ipykernel)",
   "language": "python",
   "name": "python3"
  },
  "language_info": {
   "codemirror_mode": {
    "name": "ipython",
    "version": 3
   },
   "file_extension": ".py",
   "mimetype": "text/x-python",
   "name": "python",
   "nbconvert_exporter": "python",
   "pygments_lexer": "ipython3",
   "version": "3.11.6"
  }
 },
 "nbformat": 4,
 "nbformat_minor": 5
}
