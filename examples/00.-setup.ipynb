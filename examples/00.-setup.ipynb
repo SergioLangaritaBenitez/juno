{
 "cells": [
  {
   "cell_type": "markdown",
   "id": "924b73be",
   "metadata": {},
   "source": [
    "# First, set up the environment\n",
    "\n",
    "Open the terminal and execute `sudo su` and `./setupscript.sh`.\n",
    "Follow the instructions:\n",
    "- Introduce the code in this webside https://aai.egi.eu/device.\n",
    "- Return to the terminal and write your password twice.\n",
    "The shortname by default is \"oscar-egi\"."
   ]
  },
  {
   "cell_type": "markdown",
   "id": "7b4be353-8562-4b3b-8870-3e0e4471f666",
   "metadata": {},
   "source": [
    "### Import libraries:"
   ]
  },
  {
   "cell_type": "code",
   "execution_count": 2,
   "id": "31e6925d-b065-47ba-b501-9d533445e8ec",
   "metadata": {
    "tags": []
   },
   "outputs": [],
   "source": [
    "from oscar_python.client import Client\n",
    "import base64\n",
    "import os"
   ]
  },
  {
   "cell_type": "markdown",
   "id": "20f48fdb-7c22-4411-891a-a00c6b2e4437",
   "metadata": {},
   "source": [
    "### Create the client with the credentials:"
   ]
  },
  {
   "cell_type": "code",
   "execution_count": 3,
   "id": "83499f80-67a2-48ef-b45c-4ff18f6f7d0e",
   "metadata": {
    "tags": []
   },
   "outputs": [],
   "source": [
    "options_oidc_auth = {'cluster_id':'cluster-id',\n",
    "                'endpoint':os.environ[\"OSCAR_ENDPOINT\"],\n",
    "                'shortname':'oscar-egi',\n",
    "                'ssl':'True'}\n",
    "\n",
    "\n",
    "client = Client(options = options_oidc_auth)"
   ]
  },
  {
   "cell_type": "markdown",
   "id": "ba0350d2-c1c3-4156-92d6-a2f39ddfd91f",
   "metadata": {
    "tags": []
   },
   "source": [
    "### Create services:"
   ]
  },
  {
   "cell_type": "code",
   "execution_count": 4,
   "id": "8e3d3dfe-7c64-4a8c-8e83-686c035acd0e",
   "metadata": {
    "tags": []
   },
   "outputs": [],
   "source": [
    "err = client.create_service(\"cowsay.yaml\")\n",
    "err = client.create_service(\"body-async.yaml\")\n",
    "err = client.create_service(\"plant-sync.yaml\")"
   ]
  }
 ],
 "metadata": {
  "kernelspec": {
   "display_name": "Python 3 (ipykernel)",
   "language": "python",
   "name": "python3"
  },
  "language_info": {
   "codemirror_mode": {
    "name": "ipython",
    "version": 3
   },
   "file_extension": ".py",
   "mimetype": "text/x-python",
   "name": "python",
   "nbconvert_exporter": "python",
   "pygments_lexer": "ipython3",
   "version": "3.11.6"
  }
 },
 "nbformat": 4,
 "nbformat_minor": 5
}
