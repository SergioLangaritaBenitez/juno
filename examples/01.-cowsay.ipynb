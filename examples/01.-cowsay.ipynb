{
 "cells": [
  {
   "cell_type": "markdown",
   "id": "6866dbc8-802b-452b-ab41-490218bd9c18",
   "metadata": {},
   "source": []
  },
  {
   "cell_type": "markdown",
   "id": "5f046ab8-bbca-4a3a-b445-a3e427657d8c",
   "metadata": {},
   "source": [
    "### Import libraries:"
   ]
  },
  {
   "cell_type": "code",
   "execution_count": 2,
   "id": "29eeac5d-6c52-42d2-b7d9-a0676c2df730",
   "metadata": {},
   "outputs": [],
   "source": [
    "from oscar_python.client import Client\n",
    "import base64\n",
    "import os"
   ]
  },
  {
   "cell_type": "markdown",
   "id": "14e8d1f0-8fc4-4432-a893-5fae1ddb64ff",
   "metadata": {},
   "source": [
    "### Create the client with the credentials:"
   ]
  },
  {
   "cell_type": "code",
   "execution_count": 17,
   "id": "9d5c27cc-e2da-405a-ae83-4c3ebfbb9a02",
   "metadata": {},
   "outputs": [],
   "source": [
    "options_oidc_auth = {'cluster_id':'cluster-id',\n",
    "                'endpoint':os.environ[\"OSCAR_ENDPOINT\"],\n",
    "                'shortname':'oscar-egi',\n",
    "                'ssl':'True'}\n",
    "\n",
    "\n",
    "client = Client(options = options_oidc_auth)"
   ]
  },
  {
   "cell_type": "markdown",
   "id": "e41f6c2f-b8f4-4942-84d2-13307727e251",
   "metadata": {},
   "source": [
    "### Execute cowsay"
   ]
  },
  {
   "cell_type": "code",
   "execution_count": null,
   "id": "57ce5391-4dbe-4301-b326-1123ee7e2dfd",
   "metadata": {},
   "outputs": [],
   "source": [
    "try:\n",
    "  response = client.run_service(\"cowsay\", input = 'Hi there. I am a cow\"}')   \n",
    "  if response.status_code == 200:\n",
    "      print(response.text)\n",
    "except Exception as err:\n",
    "  print(\"Failed with: \", err)\n"
   ]
  }
 ],
 "metadata": {
  "kernelspec": {
   "display_name": "Python 3 (ipykernel)",
   "language": "python",
   "name": "python3"
  },
  "language_info": {
   "codemirror_mode": {
    "name": "ipython",
    "version": 3
   },
   "file_extension": ".py",
   "mimetype": "text/x-python",
   "name": "python",
   "nbconvert_exporter": "python",
   "pygments_lexer": "ipython3",
   "version": "3.11.6"
  }
 },
 "nbformat": 4,
 "nbformat_minor": 5
}
