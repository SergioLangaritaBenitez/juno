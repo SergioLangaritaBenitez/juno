{
 "cells": [
  {
   "cell_type": "code",
   "execution_count": null,
   "id": "b332882f-2796-4528-b87e-0764f9abf918",
   "metadata": {},
   "outputs": [],
   "source": [
    "pip install oscar-python liboidcagent"
   ]
  },
  {
   "cell_type": "code",
   "execution_count": 2,
   "id": "29eeac5d-6c52-42d2-b7d9-a0676c2df730",
   "metadata": {},
   "outputs": [],
   "source": [
    "from oscar_python.client import Client\n",
    "import base64\n",
    "import os\n",
    "os.environ[\"OIDC_SOCK\"] = \"/tmp/oidc-agent-service-0/oidc-agent.sock\""
   ]
  },
  {
   "cell_type": "code",
   "execution_count": 17,
   "id": "9d5c27cc-e2da-405a-ae83-4c3ebfbb9a02",
   "metadata": {},
   "outputs": [],
   "source": [
    "options_basic_auth = {'cluster_id':'cluster-id',\n",
    "                'endpoint':os.environ[\"OSCAR_ENDPOINT\"],\n",
    "                'shortname':'oscar-egi',\n",
    "                'ssl':'True'}\n",
    "\n",
    "\n",
    "client = Client(options = options_basic_auth)"
   ]
  },
  {
   "cell_type": "code",
   "execution_count": null,
   "id": "57ce5391-4dbe-4301-b326-1123ee7e2dfd",
   "metadata": {},
   "outputs": [],
   "source": [
    "try:\n",
    "  response = client.run_service(\"cowsay\", input = 'Hi there. I am a cow\"}')   \n",
    "  if response.status_code == 200:\n",
    "      print(response.text)\n",
    "except Exception as err:\n",
    "  print(\"Failed with: \", err)\n"
   ]
  }
 ],
 "metadata": {
  "kernelspec": {
   "display_name": "Python 3 (ipykernel)",
   "language": "python",
   "name": "python3"
  },
  "language_info": {
   "codemirror_mode": {
    "name": "ipython",
    "version": 3
   },
   "file_extension": ".py",
   "mimetype": "text/x-python",
   "name": "python",
   "nbconvert_exporter": "python",
   "pygments_lexer": "ipython3",
   "version": "3.11.6"
  }
 },
 "nbformat": 4,
 "nbformat_minor": 5
}
