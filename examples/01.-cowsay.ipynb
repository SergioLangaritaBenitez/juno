{
 "cells": [
  {
   "cell_type": "code",
   "execution_count": 1,
   "id": "b332882f-2796-4528-b87e-0764f9abf918",
   "metadata": {},
   "outputs": [
    {
     "name": "stdout",
     "output_type": "stream",
     "text": [
      "Requirement already satisfied: oscar-python in /opt/conda/lib/python3.11/site-packages (1.2.1)\n",
      "Requirement already satisfied: liboidcagent in /opt/conda/lib/python3.11/site-packages (0.6.0)\n",
      "Requirement already satisfied: webdavclient3==3.14.6 in /opt/conda/lib/python3.11/site-packages (from oscar-python) (3.14.6)\n",
      "Requirement already satisfied: requests in /opt/conda/lib/python3.11/site-packages (from oscar-python) (2.31.0)\n",
      "Requirement already satisfied: boto3 in /opt/conda/lib/python3.11/site-packages (from oscar-python) (1.34.141)\n",
      "Requirement already satisfied: setuptools>=40.8.0 in /opt/conda/lib/python3.11/site-packages (from oscar-python) (68.2.2)\n",
      "Requirement already satisfied: pyyaml in /opt/conda/lib/python3.11/site-packages (from oscar-python) (6.0.1)\n",
      "Requirement already satisfied: aiohttp in /opt/conda/lib/python3.11/site-packages (from oscar-python) (3.9.5)\n",
      "Requirement already satisfied: lxml in /opt/conda/lib/python3.11/site-packages (from webdavclient3==3.14.6->oscar-python) (5.2.2)\n",
      "Requirement already satisfied: python-dateutil in /opt/conda/lib/python3.11/site-packages (from webdavclient3==3.14.6->oscar-python) (2.8.2)\n",
      "Requirement already satisfied: PyNaCl>=1.2.0 in /opt/conda/lib/python3.11/site-packages (from liboidcagent) (1.5.0)\n",
      "Requirement already satisfied: cffi>=1.4.1 in /opt/conda/lib/python3.11/site-packages (from PyNaCl>=1.2.0->liboidcagent) (1.16.0)\n",
      "Requirement already satisfied: aiosignal>=1.1.2 in /opt/conda/lib/python3.11/site-packages (from aiohttp->oscar-python) (1.3.1)\n",
      "Requirement already satisfied: attrs>=17.3.0 in /opt/conda/lib/python3.11/site-packages (from aiohttp->oscar-python) (23.1.0)\n",
      "Requirement already satisfied: frozenlist>=1.1.1 in /opt/conda/lib/python3.11/site-packages (from aiohttp->oscar-python) (1.4.1)\n",
      "Requirement already satisfied: multidict<7.0,>=4.5 in /opt/conda/lib/python3.11/site-packages (from aiohttp->oscar-python) (6.0.5)\n",
      "Requirement already satisfied: yarl<2.0,>=1.0 in /opt/conda/lib/python3.11/site-packages (from aiohttp->oscar-python) (1.9.4)\n",
      "Requirement already satisfied: botocore<1.35.0,>=1.34.141 in /opt/conda/lib/python3.11/site-packages (from boto3->oscar-python) (1.34.141)\n",
      "Requirement already satisfied: jmespath<2.0.0,>=0.7.1 in /opt/conda/lib/python3.11/site-packages (from boto3->oscar-python) (1.0.1)\n",
      "Requirement already satisfied: s3transfer<0.11.0,>=0.10.0 in /opt/conda/lib/python3.11/site-packages (from boto3->oscar-python) (0.10.2)\n",
      "Requirement already satisfied: charset-normalizer<4,>=2 in /opt/conda/lib/python3.11/site-packages (from requests->oscar-python) (3.3.0)\n",
      "Requirement already satisfied: idna<4,>=2.5 in /opt/conda/lib/python3.11/site-packages (from requests->oscar-python) (3.4)\n",
      "Requirement already satisfied: urllib3<3,>=1.21.1 in /opt/conda/lib/python3.11/site-packages (from requests->oscar-python) (2.0.7)\n",
      "Requirement already satisfied: certifi>=2017.4.17 in /opt/conda/lib/python3.11/site-packages (from requests->oscar-python) (2023.7.22)\n",
      "Requirement already satisfied: pycparser in /opt/conda/lib/python3.11/site-packages (from cffi>=1.4.1->PyNaCl>=1.2.0->liboidcagent) (2.21)\n",
      "Requirement already satisfied: six>=1.5 in /opt/conda/lib/python3.11/site-packages (from python-dateutil->webdavclient3==3.14.6->oscar-python) (1.16.0)\n",
      "Note: you may need to restart the kernel to use updated packages.\n"
     ]
    }
   ],
   "source": [
    "pip install oscar-python liboidcagent"
   ]
  },
  {
   "cell_type": "code",
   "execution_count": 2,
   "id": "29eeac5d-6c52-42d2-b7d9-a0676c2df730",
   "metadata": {},
   "outputs": [],
   "source": [
    "from oscar_python.client import Client\n",
    "import base64\n",
    "import os"
   ]
  },
  {
   "cell_type": "code",
   "execution_count": 16,
   "id": "4b168f37-be6e-4e14-852a-ce06b8e56109",
   "metadata": {},
   "outputs": [
    {
     "name": "stdout",
     "output_type": "stream",
     "text": [
      "total 4\n",
      "-rw-rw-rw- 1 root root 5 Jul  9 10:04 oidc-agent.pid\n",
      "srwxrwxrwx 1 root root 0 Jul  9 10:04 oidc-agent.sock\n"
     ]
    }
   ],
   "source": [
    "!eval `oidc-agent-service restart`\n",
    "!ls -l /tmp/oidc-agent-service-0\n",
    "os.environ[\"OIDC_SOCK\"] = \"/tmp/oidc-agent-service-0/oidc-agent.sock\""
   ]
  },
  {
   "cell_type": "code",
   "execution_count": 17,
   "id": "9d5c27cc-e2da-405a-ae83-4c3ebfbb9a02",
   "metadata": {},
   "outputs": [],
   "source": [
    "options_basic_auth = {'cluster_id':'cluster-id',\n",
    "                'endpoint':os.environ[\"OSCAR_ENDPOINT\"],\n",
    "                'shortname':'oscar-egi',\n",
    "                'ssl':'True'}\n",
    "\n",
    "\n",
    "client = Client(options = options_basic_auth)"
   ]
  },
  {
   "cell_type": "code",
   "execution_count": 18,
   "id": "57ce5391-4dbe-4301-b326-1123ee7e2dfd",
   "metadata": {},
   "outputs": [
    {
     "name": "stdout",
     "output_type": "stream",
     "text": [
      " ________________________\n",
      "< Hi there. I am a cow\"} >\n",
      " ------------------------\n",
      "        \\   ^__^\n",
      "         \\  (oo)\\_______\n",
      "            (__)\\       )\\/\\\n",
      "                ||----w |\n",
      "                ||     ||\n",
      "\n",
      "\n"
     ]
    }
   ],
   "source": [
    "try:\n",
    "  response = client.run_service(\"cowsay\", input = 'Hi there. I am a cow\"}')   \n",
    "  if response.status_code == 200:\n",
    "      print(response.text)\n",
    "except Exception as err:\n",
    "  print(\"Failed with: \", err)\n"
   ]
  },
  {
   "cell_type": "code",
   "execution_count": null,
   "id": "87b450e4-e8dd-4d8e-825c-0e28ff449c72",
   "metadata": {},
   "outputs": [],
   "source": []
  }
 ],
 "metadata": {
  "kernelspec": {
   "display_name": "Python 3 (ipykernel)",
   "language": "python",
   "name": "python3"
  },
  "language_info": {
   "codemirror_mode": {
    "name": "ipython",
    "version": 3
   },
   "file_extension": ".py",
   "mimetype": "text/x-python",
   "name": "python",
   "nbconvert_exporter": "python",
   "pygments_lexer": "ipython3",
   "version": "3.11.6"
  }
 },
 "nbformat": 4,
 "nbformat_minor": 5
}
