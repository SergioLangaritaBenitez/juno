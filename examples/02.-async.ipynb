{
 "cells": [
  {
   "cell_type": "markdown",
   "id": "d48246d7-4dae-4475-82e6-8d7c3d5251db",
   "metadata": {},
   "source": [
    "# OSCAR from a Jupyter Notebook\n",
    "## Using OSCAR as a FaaS platform for synchronous inference of a machine learning model from a Jupyter Notebook deployed as Exposed Service from OSCAR\n",
    "\n",
    "This notebook shows how to interact with the OSCAR Services from a Jupyter Notebook, through an asynchronous call.\n",
    "\n",
    "This Jupyter Notebook has been deployed as an Exposed feature from OSCAR (**new feature!**)"
   ]
  },
  {
   "cell_type": "code",
   "execution_count": 1,
   "id": "0b9b426f-fe2a-457c-89a7-30131992ce67",
   "metadata": {},
   "outputs": [
    {
     "name": "stdout",
     "output_type": "stream",
     "text": [
      "Requirement already satisfied: oscar-python in /opt/conda/lib/python3.11/site-packages (1.2.1)\n",
      "Requirement already satisfied: liboidcagent in /opt/conda/lib/python3.11/site-packages (0.6.0)\n",
      "Requirement already satisfied: webdavclient3==3.14.6 in /opt/conda/lib/python3.11/site-packages (from oscar-python) (3.14.6)\n",
      "Requirement already satisfied: requests in /opt/conda/lib/python3.11/site-packages (from oscar-python) (2.31.0)\n",
      "Requirement already satisfied: boto3 in /opt/conda/lib/python3.11/site-packages (from oscar-python) (1.34.102)\n",
      "Requirement already satisfied: setuptools>=40.8.0 in /opt/conda/lib/python3.11/site-packages (from oscar-python) (68.2.2)\n",
      "Requirement already satisfied: pyyaml in /opt/conda/lib/python3.11/site-packages (from oscar-python) (6.0.1)\n",
      "Requirement already satisfied: aiohttp in /opt/conda/lib/python3.11/site-packages (from oscar-python) (3.9.5)\n",
      "Requirement already satisfied: lxml in /opt/conda/lib/python3.11/site-packages (from webdavclient3==3.14.6->oscar-python) (5.2.1)\n",
      "Requirement already satisfied: python-dateutil in /opt/conda/lib/python3.11/site-packages (from webdavclient3==3.14.6->oscar-python) (2.8.2)\n",
      "Requirement already satisfied: PyNaCl>=1.2.0 in /opt/conda/lib/python3.11/site-packages (from liboidcagent) (1.5.0)\n",
      "Requirement already satisfied: cffi>=1.4.1 in /opt/conda/lib/python3.11/site-packages (from PyNaCl>=1.2.0->liboidcagent) (1.16.0)\n",
      "Requirement already satisfied: aiosignal>=1.1.2 in /opt/conda/lib/python3.11/site-packages (from aiohttp->oscar-python) (1.3.1)\n",
      "Requirement already satisfied: attrs>=17.3.0 in /opt/conda/lib/python3.11/site-packages (from aiohttp->oscar-python) (23.1.0)\n",
      "Requirement already satisfied: frozenlist>=1.1.1 in /opt/conda/lib/python3.11/site-packages (from aiohttp->oscar-python) (1.4.1)\n",
      "Requirement already satisfied: multidict<7.0,>=4.5 in /opt/conda/lib/python3.11/site-packages (from aiohttp->oscar-python) (6.0.5)\n",
      "Requirement already satisfied: yarl<2.0,>=1.0 in /opt/conda/lib/python3.11/site-packages (from aiohttp->oscar-python) (1.9.4)\n",
      "Requirement already satisfied: botocore<1.35.0,>=1.34.102 in /opt/conda/lib/python3.11/site-packages (from boto3->oscar-python) (1.34.102)\n",
      "Requirement already satisfied: jmespath<2.0.0,>=0.7.1 in /opt/conda/lib/python3.11/site-packages (from boto3->oscar-python) (1.0.1)\n",
      "Requirement already satisfied: s3transfer<0.11.0,>=0.10.0 in /opt/conda/lib/python3.11/site-packages (from boto3->oscar-python) (0.10.1)\n",
      "Requirement already satisfied: charset-normalizer<4,>=2 in /opt/conda/lib/python3.11/site-packages (from requests->oscar-python) (3.3.0)\n",
      "Requirement already satisfied: idna<4,>=2.5 in /opt/conda/lib/python3.11/site-packages (from requests->oscar-python) (3.4)\n",
      "Requirement already satisfied: urllib3<3,>=1.21.1 in /opt/conda/lib/python3.11/site-packages (from requests->oscar-python) (2.0.7)\n",
      "Requirement already satisfied: certifi>=2017.4.17 in /opt/conda/lib/python3.11/site-packages (from requests->oscar-python) (2023.7.22)\n",
      "Requirement already satisfied: pycparser in /opt/conda/lib/python3.11/site-packages (from cffi>=1.4.1->PyNaCl>=1.2.0->liboidcagent) (2.21)\n",
      "Requirement already satisfied: six>=1.5 in /opt/conda/lib/python3.11/site-packages (from python-dateutil->webdavclient3==3.14.6->oscar-python) (1.16.0)\n",
      "Note: you may need to restart the kernel to use updated packages.\n"
     ]
    }
   ],
   "source": [
    "pip install oscar-python liboidcagent"
   ]
  },
  {
   "cell_type": "code",
   "execution_count": 2,
   "id": "29eeac5d-6c52-42d2-b7d9-a0676c2df730",
   "metadata": {},
   "outputs": [],
   "source": [
    "from oscar_python.client import Client\n",
    "import base64\n"
   ]
  },
  {
   "cell_type": "code",
   "execution_count": 3,
   "id": "9d5c27cc-e2da-405a-ae83-4c3ebfbb9a02",
   "metadata": {},
   "outputs": [],
   "source": [
    "options_basic_auth = {'cluster_id':'cluster-id',\n",
    "                'endpoint':'',\n",
    "                'user':'',\n",
    "                'password':'',\n",
    "                'ssl':'True'}\n",
    "\n",
    "\n",
    "client = Client(options = options_basic_auth)"
   ]
  },
  {
   "cell_type": "code",
   "execution_count": 4,
   "id": "8a7e1e35-4639-4a8c-84ef-727a93059f22",
   "metadata": {},
   "outputs": [
    {
     "name": "stdout",
     "output_type": "stream",
     "text": [
      "Uploading to bucket 'body-pose-detection-async' with key 'input/body-pose.jpeg'\n"
     ]
    },
    {
     "name": "stderr",
     "output_type": "stream",
     "text": [
      "/opt/conda/lib/python3.11/site-packages/urllib3/connectionpool.py:1100: InsecureRequestWarning: Unverified HTTPS request is being made to host 'minio.nostalgic-borg2.im.grycap.net'. Adding certificate verification is strongly advised. See: https://urllib3.readthedocs.io/en/latest/advanced-usage.html#tls-warnings\n",
      "  warnings.warn(\n"
     ]
    }
   ],
   "source": [
    "try:\n",
    "  storage_service = client.create_storage_client(\"body-pose-detection-async\") # returns a storage object\n",
    "  response = storage_service.upload_file(\"minio.default\", \"body-pose.jpg\", \"body-pose-detection-async/input/body-pose.jpeg\")\n",
    "except Exception as err:\n",
    "  print(\"Failed with: \", err)"
   ]
  },
  {
   "cell_type": "code",
   "execution_count": 5,
   "id": "25125cdf-cb36-46e0-be89-7d59b1a5d539",
   "metadata": {},
   "outputs": [],
   "source": [
    "import zipfile\n",
    "with zipfile.ZipFile(\"output.zip\", 'r') as zip_ref:\n",
    "    zip_ref.extractall(\"body_posenet_output\")"
   ]
  },
  {
   "cell_type": "code",
   "execution_count": null,
   "id": "0a54909a-2032-4bfe-8f82-66206adbc7fe",
   "metadata": {},
   "outputs": [],
   "source": []
  }
 ],
 "metadata": {
  "kernelspec": {
   "display_name": "Python 3 (ipykernel)",
   "language": "python",
   "name": "python3"
  },
  "language_info": {
   "codemirror_mode": {
    "name": "ipython",
    "version": 3
   },
   "file_extension": ".py",
   "mimetype": "text/x-python",
   "name": "python",
   "nbconvert_exporter": "python",
   "pygments_lexer": "ipython3",
   "version": "3.11.6"
  }
 },
 "nbformat": 4,
 "nbformat_minor": 5
}
