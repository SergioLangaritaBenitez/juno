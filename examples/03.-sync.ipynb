{
 "cells": [
  {
   "cell_type": "markdown",
   "id": "591bab7c-5b10-4582-be80-99969e0874d7",
   "metadata": {},
   "source": [
    "# OSCAR from a Jupyter Notebook\n",
    "## Using OSCAR as a FaaS platform for synchronous inference of a machine learning model from a Jupyter Notebook deployed as Exposed Service from OSCAR\n",
    "\n",
    "This notebook shows how to interact with the OSCAR Services from a Jupyter Notebook, through a synchronous call.\n",
    "\n",
    "This Jupyter Notebook has been deployed as an Exposed feature from OSCAR (**new feature!**)"
   ]
  },
  {
   "cell_type": "markdown",
   "id": "5ee52521-1634-408d-a368-9b06934b85df",
   "metadata": {},
   "source": [
    "### Install the required packages to create an OSCAR client:"
   ]
  },
  {
   "cell_type": "code",
   "execution_count": 1,
   "id": "0b9b426f-fe2a-457c-89a7-30131992ce67",
   "metadata": {},
   "outputs": [
    {
     "name": "stdout",
     "output_type": "stream",
     "text": [
      "Requirement already satisfied: oscar-python in /opt/conda/lib/python3.11/site-packages (1.2.1)\n",
      "Requirement already satisfied: liboidcagent in /opt/conda/lib/python3.11/site-packages (0.6.0)\n",
      "Requirement already satisfied: webdavclient3==3.14.6 in /opt/conda/lib/python3.11/site-packages (from oscar-python) (3.14.6)\n",
      "Requirement already satisfied: requests in /opt/conda/lib/python3.11/site-packages (from oscar-python) (2.31.0)\n",
      "Requirement already satisfied: boto3 in /opt/conda/lib/python3.11/site-packages (from oscar-python) (1.34.102)\n",
      "Requirement already satisfied: setuptools>=40.8.0 in /opt/conda/lib/python3.11/site-packages (from oscar-python) (68.2.2)\n",
      "Requirement already satisfied: pyyaml in /opt/conda/lib/python3.11/site-packages (from oscar-python) (6.0.1)\n",
      "Requirement already satisfied: aiohttp in /opt/conda/lib/python3.11/site-packages (from oscar-python) (3.9.5)\n",
      "Requirement already satisfied: lxml in /opt/conda/lib/python3.11/site-packages (from webdavclient3==3.14.6->oscar-python) (5.2.1)\n",
      "Requirement already satisfied: python-dateutil in /opt/conda/lib/python3.11/site-packages (from webdavclient3==3.14.6->oscar-python) (2.8.2)\n",
      "Requirement already satisfied: PyNaCl>=1.2.0 in /opt/conda/lib/python3.11/site-packages (from liboidcagent) (1.5.0)\n",
      "Requirement already satisfied: cffi>=1.4.1 in /opt/conda/lib/python3.11/site-packages (from PyNaCl>=1.2.0->liboidcagent) (1.16.0)\n",
      "Requirement already satisfied: aiosignal>=1.1.2 in /opt/conda/lib/python3.11/site-packages (from aiohttp->oscar-python) (1.3.1)\n",
      "Requirement already satisfied: attrs>=17.3.0 in /opt/conda/lib/python3.11/site-packages (from aiohttp->oscar-python) (23.1.0)\n",
      "Requirement already satisfied: frozenlist>=1.1.1 in /opt/conda/lib/python3.11/site-packages (from aiohttp->oscar-python) (1.4.1)\n",
      "Requirement already satisfied: multidict<7.0,>=4.5 in /opt/conda/lib/python3.11/site-packages (from aiohttp->oscar-python) (6.0.5)\n",
      "Requirement already satisfied: yarl<2.0,>=1.0 in /opt/conda/lib/python3.11/site-packages (from aiohttp->oscar-python) (1.9.4)\n",
      "Requirement already satisfied: botocore<1.35.0,>=1.34.102 in /opt/conda/lib/python3.11/site-packages (from boto3->oscar-python) (1.34.102)\n",
      "Requirement already satisfied: jmespath<2.0.0,>=0.7.1 in /opt/conda/lib/python3.11/site-packages (from boto3->oscar-python) (1.0.1)\n",
      "Requirement already satisfied: s3transfer<0.11.0,>=0.10.0 in /opt/conda/lib/python3.11/site-packages (from boto3->oscar-python) (0.10.1)\n",
      "Requirement already satisfied: charset-normalizer<4,>=2 in /opt/conda/lib/python3.11/site-packages (from requests->oscar-python) (3.3.0)\n",
      "Requirement already satisfied: idna<4,>=2.5 in /opt/conda/lib/python3.11/site-packages (from requests->oscar-python) (3.4)\n",
      "Requirement already satisfied: urllib3<3,>=1.21.1 in /opt/conda/lib/python3.11/site-packages (from requests->oscar-python) (2.0.7)\n",
      "Requirement already satisfied: certifi>=2017.4.17 in /opt/conda/lib/python3.11/site-packages (from requests->oscar-python) (2023.7.22)\n",
      "Requirement already satisfied: pycparser in /opt/conda/lib/python3.11/site-packages (from cffi>=1.4.1->PyNaCl>=1.2.0->liboidcagent) (2.21)\n",
      "Requirement already satisfied: six>=1.5 in /opt/conda/lib/python3.11/site-packages (from python-dateutil->webdavclient3==3.14.6->oscar-python) (1.16.0)\n",
      "Note: you may need to restart the kernel to use updated packages.\n"
     ]
    }
   ],
   "source": [
    "pip install oscar-python liboidcagent"
   ]
  },
  {
   "cell_type": "markdown",
   "id": "38fae808-d37f-4757-ae8c-586e57ea25f1",
   "metadata": {},
   "source": [
    "### Import libraries:"
   ]
  },
  {
   "cell_type": "code",
   "execution_count": 2,
   "id": "29eeac5d-6c52-42d2-b7d9-a0676c2df730",
   "metadata": {},
   "outputs": [],
   "source": [
    "from oscar_python.client import Client\n",
    "from IPython.display import Image \n",
    "import base64\n",
    "import json"
   ]
  },
  {
   "cell_type": "markdown",
   "id": "a482d177-3bf7-4398-981f-0f94d28fb364",
   "metadata": {},
   "source": [
    "### Create the client with the credentials:"
   ]
  },
  {
   "cell_type": "code",
   "execution_count": 3,
   "id": "9d5c27cc-e2da-405a-ae83-4c3ebfbb9a02",
   "metadata": {},
   "outputs": [],
   "source": [
    "options_oidc_auth = {'cluster_id':'cluster-id',\n",
    "                'endpoint':'',\n",
    "                'user':'',\n",
    "                'password':'',\n",
    "                'ssl':'True'}\n",
    "\n",
    "client = Client(options = options_oidc_auth)"
   ]
  },
  {
   "cell_type": "markdown",
   "id": "5df2bcbb-d52a-482b-9155-cefa30e09cb6",
   "metadata": {},
   "source": [
    "### Work on your code:"
   ]
  },
  {
   "cell_type": "code",
   "execution_count": null,
   "id": "5650d1f4-4f83-40a7-b64d-7c470f0e4e94",
   "metadata": {},
   "outputs": [],
   "source": []
  },
  {
   "cell_type": "markdown",
   "id": "987d39d3-6fa9-4ee8-9ba0-af65249818e0",
   "metadata": {},
   "source": [
    "### Call the OSCAR Service (synchronous call):"
   ]
  },
  {
   "cell_type": "code",
   "execution_count": 5,
   "id": "3032770e-3008-4b44-a429-e1996e73dad9",
   "metadata": {},
   "outputs": [
    {
     "name": "stdout",
     "output_type": "stream",
     "text": [
      "{\n",
      "  \"status\": \"OK\",\n",
      "  \"predictions\": {\n",
      "    \"labels\": [\n",
      "      \"Picea obovata\",\n",
      "      \"Abies vejarii\",\n",
      "      \"Picea glauca\",\n",
      "      \"Picea sitchensis\",\n",
      "      \"Pinus aristata\"\n",
      "    ],\n",
      "    \"probabilities\": [\n",
      "      0.854849636554718,\n",
      "      0.04063865914940834,\n",
      "      0.03817983716726303,\n",
      "      0.024882767349481583,\n",
      "      0.017382903024554253\n",
      "    ],\n",
      "    \"labels_info\": [\n",
      "      \"\",\n",
      "      \"\",\n",
      "      \"\",\n",
      "      \"\",\n",
      "      \"\"\n",
      "    ],\n",
      "    \"links\": {\n",
      "      \"Google Images\": [\n",
      "        \"https://www.google.es/search?tbm=isch&q=Picea+obovata\",\n",
      "        \"https://www.google.es/search?tbm=isch&q=Abies+vejarii\",\n",
      "        \"https://www.google.es/search?tbm=isch&q=Picea+glauca\",\n",
      "        \"https://www.google.es/search?tbm=isch&q=Picea+sitchensis\",\n",
      "        \"https://www.google.es/search?tbm=isch&q=Pinus+aristata\"\n",
      "      ],\n",
      "      \"Wikipedia\": [\n",
      "        \"https://en.wikipedia.org/wiki/Picea_obovata\",\n",
      "        \"https://en.wikipedia.org/wiki/Abies_vejarii\",\n",
      "        \"https://en.wikipedia.org/wiki/Picea_glauca\",\n",
      "        \"https://en.wikipedia.org/wiki/Picea_sitchensis\",\n",
      "        \"https://en.wikipedia.org/wiki/Pinus_aristata\"\n",
      "      ]\n",
      "    }\n",
      "  }\n",
      "}\n"
     ]
    }
   ],
   "source": [
    "try:\n",
    "  response = client.run_service(\"plant-classification-sync\",token = \"\",output = \"result\", input = \"plant.jpg\")\n",
    "  if response.status_code == 200:\n",
    "      result = base64.b64decode(response.text)\n",
    "      json_object = json.loads(result)\n",
    "      json_formatted_str = json.dumps(json_object, indent=2)\n",
    "      print(json_formatted_str)\n",
    "except Exception as err:\n",
    "  print(\"ERROR: \", err)"
   ]
  },
  {
   "cell_type": "code",
   "execution_count": null,
   "id": "dcb1b2c9-6cd0-4c2f-8672-382ef369943e",
   "metadata": {},
   "outputs": [],
   "source": []
  }
 ],
 "metadata": {
  "kernelspec": {
   "display_name": "Python 3 (ipykernel)",
   "language": "python",
   "name": "python3"
  },
  "language_info": {
   "codemirror_mode": {
    "name": "ipython",
    "version": 3
   },
   "file_extension": ".py",
   "mimetype": "text/x-python",
   "name": "python",
   "nbconvert_exporter": "python",
   "pygments_lexer": "ipython3",
   "version": "3.11.6"
  }
 },
 "nbformat": 4,
 "nbformat_minor": 5
}
