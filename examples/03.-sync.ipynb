{
 "cells": [
  {
   "cell_type": "markdown",
   "id": "591bab7c-5b10-4582-be80-99969e0874d7",
   "metadata": {},
   "source": [
    "# OSCAR from a Jupyter Notebook\n",
    "## Using OSCAR as a FaaS platform for synchronous inference of a machine learning model from a Jupyter Notebook deployed as Exposed Service from OSCAR\n",
    "\n",
    "This notebook shows how to interact with the OSCAR Services from a Jupyter Notebook, through a synchronous call.\n",
    "\n",
    "This Jupyter Notebook has been deployed as an Exposed feature from OSCAR (**new feature!**)"
   ]
  },
  {
   "cell_type": "markdown",
   "id": "5ee52521-1634-408d-a368-9b06934b85df",
   "metadata": {},
   "source": [
    "### Install the required packages to create an OSCAR client:"
   ]
  },
  {
   "cell_type": "code",
   "execution_count": null,
   "id": "0b9b426f-fe2a-457c-89a7-30131992ce67",
   "metadata": {},
   "outputs": [],
   "source": [
    "pip install oscar-python liboidcagent"
   ]
  },
  {
   "cell_type": "markdown",
   "id": "38fae808-d37f-4757-ae8c-586e57ea25f1",
   "metadata": {},
   "source": [
    "### Import libraries:"
   ]
  },
  {
   "cell_type": "code",
   "execution_count": 6,
   "id": "29eeac5d-6c52-42d2-b7d9-a0676c2df730",
   "metadata": {},
   "outputs": [],
   "source": [
    "from oscar_python.client import Client\n",
    "from IPython.display import Image \n",
    "import base64\n",
    "import json\n",
    "import os\n",
    "os.environ[\"OIDC_SOCK\"] = \"/tmp/oidc-agent-service-0/oidc-agent.sock\""
   ]
  },
  {
   "cell_type": "markdown",
   "id": "a482d177-3bf7-4398-981f-0f94d28fb364",
   "metadata": {},
   "source": [
    "### Create the client with the credentials:"
   ]
  },
  {
   "cell_type": "code",
   "execution_count": 7,
   "id": "9d5c27cc-e2da-405a-ae83-4c3ebfbb9a02",
   "metadata": {},
   "outputs": [],
   "source": [
    "options_oidc_auth = {'cluster_id':'cluster-id',\n",
    "                'endpoint':os.environ[\"OSCAR_ENDPOINT\"],\n",
    "                'shortname':'oscar-egi',\n",
    "                'ssl':'True'}\n",
    "\n",
    "client = Client(options = options_oidc_auth)"
   ]
  },
  {
   "cell_type": "markdown",
   "id": "5df2bcbb-d52a-482b-9155-cefa30e09cb6",
   "metadata": {},
   "source": [
    "### Work on your code:"
   ]
  },
  {
   "cell_type": "code",
   "execution_count": null,
   "id": "5650d1f4-4f83-40a7-b64d-7c470f0e4e94",
   "metadata": {},
   "outputs": [],
   "source": []
  },
  {
   "cell_type": "markdown",
   "id": "987d39d3-6fa9-4ee8-9ba0-af65249818e0",
   "metadata": {},
   "source": [
    "### Call the OSCAR Service (synchronous call):"
   ]
  },
  {
   "cell_type": "code",
   "execution_count": null,
   "id": "3032770e-3008-4b44-a429-e1996e73dad9",
   "metadata": {},
   "outputs": [],
   "source": [
    "try:\n",
    "  response = client.run_service(\"plant-classification-sync\",token = \"18178c08f796c953abd733b66836bc58b5703144d84975c9d0a474c0b0b14a32\",output = \"result\", input = \"plant.jpg\")\n",
    "  if response.status_code == 200:\n",
    "      result = base64.b64decode(response.text)\n",
    "      json_object = json.loads(result)\n",
    "      json_formatted_str = json.dumps(json_object, indent=2)\n",
    "      print(json_formatted_str)\n",
    "except Exception as err:\n",
    "  print(\"ERROR: \", err)"
   ]
  }
 ],
 "metadata": {
  "kernelspec": {
   "display_name": "Python 3 (ipykernel)",
   "language": "python",
   "name": "python3"
  },
  "language_info": {
   "codemirror_mode": {
    "name": "ipython",
    "version": 3
   },
   "file_extension": ".py",
   "mimetype": "text/x-python",
   "name": "python",
   "nbconvert_exporter": "python",
   "pygments_lexer": "ipython3",
   "version": "3.11.6"
  }
 },
 "nbformat": 4,
 "nbformat_minor": 5
}
