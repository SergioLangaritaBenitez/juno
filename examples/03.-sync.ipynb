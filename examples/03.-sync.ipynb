{
 "cells": [
  {
   "cell_type": "markdown",
   "id": "591bab7c-5b10-4582-be80-99969e0874d7",
   "metadata": {
    "papermill": {
     "duration": 0.022129,
     "end_time": "2024-07-23T09:25:08.014075",
     "exception": false,
     "start_time": "2024-07-23T09:25:07.991946",
     "status": "completed"
    },
    "tags": []
   },
   "source": [
    "# OSCAR from a Jupyter Notebook\n",
    "## Using OSCAR as a FaaS platform for synchronous inference of a machine learning model from a Jupyter Notebook deployed as Exposed Service from OSCAR\n",
    "\n",
    "This notebook shows how to interact with the OSCAR Services from a Jupyter Notebook, through a synchronous call.\n",
    "\n",
    "This Jupyter Notebook has been deployed as an Exposed feature from OSCAR (**new feature!**)"
   ]
  },
  {
   "cell_type": "markdown",
   "id": "38fae808-d37f-4757-ae8c-586e57ea25f1",
   "metadata": {
    "papermill": {
     "duration": 0.099327,
     "end_time": "2024-07-23T09:25:08.216548",
     "exception": false,
     "start_time": "2024-07-23T09:25:08.117221",
     "status": "completed"
    },
    "tags": []
   },
   "source": [
    "### Import libraries:"
   ]
  },
  {
   "cell_type": "code",
   "execution_count": 1,
   "id": "29eeac5d-6c52-42d2-b7d9-a0676c2df730",
   "metadata": {
    "execution": {
     "iopub.execute_input": "2024-07-23T09:25:08.294422Z",
     "iopub.status.busy": "2024-07-23T09:25:08.293650Z",
     "iopub.status.idle": "2024-07-23T09:25:08.622065Z",
     "shell.execute_reply": "2024-07-23T09:25:08.621228Z"
    },
    "papermill": {
     "duration": 0.353787,
     "end_time": "2024-07-23T09:25:08.624957",
     "exception": false,
     "start_time": "2024-07-23T09:25:08.271170",
     "status": "completed"
    },
    "tags": []
   },
   "outputs": [],
   "source": [
    "from oscar_python.client import Client\n",
    "from IPython.display import Image \n",
    "import base64\n",
    "import json\n",
    "import os\n"
   ]
  },
  {
   "cell_type": "markdown",
   "id": "a482d177-3bf7-4398-981f-0f94d28fb364",
   "metadata": {
    "papermill": {
     "duration": 0.027868,
     "end_time": "2024-07-23T09:25:08.674889",
     "exception": false,
     "start_time": "2024-07-23T09:25:08.647021",
     "status": "completed"
    },
    "tags": []
   },
   "source": [
    "### Create the client with the credentials:"
   ]
  },
  {
   "cell_type": "code",
   "execution_count": 2,
   "id": "9d5c27cc-e2da-405a-ae83-4c3ebfbb9a02",
   "metadata": {
    "execution": {
     "iopub.execute_input": "2024-07-23T09:25:08.723327Z",
     "iopub.status.busy": "2024-07-23T09:25:08.722641Z",
     "iopub.status.idle": "2024-07-23T09:25:08.731773Z",
     "shell.execute_reply": "2024-07-23T09:25:08.730416Z"
    },
    "papermill": {
     "duration": 0.037007,
     "end_time": "2024-07-23T09:25:08.734511",
     "exception": false,
     "start_time": "2024-07-23T09:25:08.697504",
     "status": "completed"
    },
    "tags": []
   },
   "outputs": [],
   "source": [
    "options_oidc_auth = {'cluster_id':'cluster-id',\n",
    "                'endpoint':os.environ[\"OSCAR_ENDPOINT\"],\n",
    "                'shortname':'oscar-egi',\n",
    "                'ssl':'True'}\n",
    "\n",
    "client = Client(options = options_oidc_auth)"
   ]
  },
  {
   "cell_type": "markdown",
   "id": "5df2bcbb-d52a-482b-9155-cefa30e09cb6",
   "metadata": {
    "papermill": {
     "duration": 0.022022,
     "end_time": "2024-07-23T09:25:08.777343",
     "exception": false,
     "start_time": "2024-07-23T09:25:08.755321",
     "status": "completed"
    },
    "tags": []
   },
   "source": [
    "### Work on your code:"
   ]
  },
  {
   "cell_type": "code",
   "execution_count": null,
   "id": "5650d1f4-4f83-40a7-b64d-7c470f0e4e94",
   "metadata": {
    "papermill": {
     "duration": 0.0219,
     "end_time": "2024-07-23T09:25:08.820469",
     "exception": false,
     "start_time": "2024-07-23T09:25:08.798569",
     "status": "completed"
    },
    "tags": []
   },
   "outputs": [],
   "source": []
  },
  {
   "cell_type": "markdown",
   "id": "987d39d3-6fa9-4ee8-9ba0-af65249818e0",
   "metadata": {
    "papermill": {
     "duration": 0.019373,
     "end_time": "2024-07-23T09:25:08.859130",
     "exception": false,
     "start_time": "2024-07-23T09:25:08.839757",
     "status": "completed"
    },
    "tags": []
   },
   "source": [
    "### Call the OSCAR Service (synchronous call):"
   ]
  },
  {
   "cell_type": "code",
   "execution_count": 3,
   "id": "3032770e-3008-4b44-a429-e1996e73dad9",
   "metadata": {
    "execution": {
     "iopub.execute_input": "2024-07-23T09:25:08.901096Z",
     "iopub.status.busy": "2024-07-23T09:25:08.900424Z",
     "iopub.status.idle": "2024-07-23T09:25:08.999092Z",
     "shell.execute_reply": "2024-07-23T09:25:08.997642Z"
    },
    "papermill": {
     "duration": 0.124148,
     "end_time": "2024-07-23T09:25:09.002386",
     "exception": false,
     "start_time": "2024-07-23T09:25:08.878238",
     "status": "completed"
    },
    "tags": []
   },
   "outputs": [
    {
     "name": "stdout",
     "output_type": "stream",
     "text": [
      "ERROR:  401 Client Error: Unauthorized for url: https://sleepy-lumiere4.im.grycap.net/run/plant-classification-sync\n"
     ]
    }
   ],
   "source": [
    "try:\n",
    "  response = client.run_service(\"plant-classification-sync\",token = \"18178c08f796c953abd733b66836bc58b5703144d84975c9d0a474c0b0b14a32\",output = \"result\", input = \"plant.jpg\")\n",
    "  if response.status_code == 200:\n",
    "      result = base64.b64decode(response.text)\n",
    "      json_object = json.loads(result)\n",
    "      json_formatted_str = json.dumps(json_object, indent=2)\n",
    "      print(json_formatted_str)\n",
    "except Exception as err:\n",
    "  print(\"ERROR: \", err)"
   ]
  }
 ],
 "metadata": {
  "kernelspec": {
   "display_name": "Python 3 (ipykernel)",
   "language": "python",
   "name": "python3"
  },
  "language_info": {
   "codemirror_mode": {
    "name": "ipython",
    "version": 3
   },
   "file_extension": ".py",
   "mimetype": "text/x-python",
   "name": "python",
   "nbconvert_exporter": "python",
   "pygments_lexer": "ipython3",
   "version": "3.11.6"
  },
  "papermill": {
   "default_parameters": {},
   "duration": 2.569977,
   "end_time": "2024-07-23T09:25:09.350088",
   "environment_variables": {},
   "exception": null,
   "input_path": "/mnt/home/03.-sync.ipynb",
   "output_path": "/mnt/home/03.-sync.ipynb",
   "parameters": {},
   "start_time": "2024-07-23T09:25:06.780111",
   "version": "2.6.0"
  }
 },
 "nbformat": 4,
 "nbformat_minor": 5
}
