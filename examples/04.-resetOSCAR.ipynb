{
 "cells": [
  {
   "cell_type": "markdown",
   "id": "591bab7c-5b10-4582-be80-99969e0874d7",
   "metadata": {
    "papermill": {
     "duration": 0.023094,
     "end_time": "2024-07-22T09:53:21.155158",
     "exception": false,
     "start_time": "2024-07-22T09:53:21.132064",
     "status": "completed"
    },
    "tags": []
   },
   "source": [
    "# OSCAR from a Jupyter Notebook\n",
    "## Using OSCAR as a FaaS platform for synchronous inference of a machine learning model from a Jupyter Notebook deployed as Exposed Service from OSCAR\n",
    "\n",
    "This notebook shows how to interact with the OSCAR Services from a Jupyter Notebook, through a synchronous call.\n",
    "\n",
    "This Jupyter Notebook has been deployed as an Exposed feature from OSCAR (**new feature!**)"
   ]
  },
  {
   "cell_type": "markdown",
   "id": "38fae808-d37f-4757-ae8c-586e57ea25f1",
   "metadata": {
    "papermill": {
     "duration": 0.022394,
     "end_time": "2024-07-22T09:53:21.290129",
     "exception": false,
     "start_time": "2024-07-22T09:53:21.267735",
     "status": "completed"
    },
    "tags": []
   },
   "source": [
    "### Import libraries:"
   ]
  },
  {
   "cell_type": "code",
   "execution_count": 1,
   "id": "29eeac5d-6c52-42d2-b7d9-a0676c2df730",
   "metadata": {
    "execution": {
     "iopub.execute_input": "2024-07-22T09:53:21.335682Z",
     "iopub.status.busy": "2024-07-22T09:53:21.334285Z",
     "iopub.status.idle": "2024-07-22T09:53:21.667341Z",
     "shell.execute_reply": "2024-07-22T09:53:21.666093Z"
    },
    "papermill": {
     "duration": 0.360456,
     "end_time": "2024-07-22T09:53:21.670952",
     "exception": false,
     "start_time": "2024-07-22T09:53:21.310496",
     "status": "completed"
    },
    "tags": []
   },
   "outputs": [],
   "source": [
    "from oscar_python.client import Client\n",
    "from IPython.display import Image \n",
    "import base64\n",
    "import json\n",
    "import os\n"
   ]
  },
  {
   "cell_type": "markdown",
   "id": "a482d177-3bf7-4398-981f-0f94d28fb364",
   "metadata": {
    "papermill": {
     "duration": 0.023421,
     "end_time": "2024-07-22T09:53:21.719942",
     "exception": false,
     "start_time": "2024-07-22T09:53:21.696521",
     "status": "completed"
    },
    "tags": []
   },
   "source": [
    "### Create the client with the credentials:"
   ]
  },
  {
   "cell_type": "code",
   "execution_count": 2,
   "id": "9d5c27cc-e2da-405a-ae83-4c3ebfbb9a02",
   "metadata": {
    "execution": {
     "iopub.execute_input": "2024-07-22T09:53:21.770120Z",
     "iopub.status.busy": "2024-07-22T09:53:21.769449Z",
     "iopub.status.idle": "2024-07-22T09:53:21.778581Z",
     "shell.execute_reply": "2024-07-22T09:53:21.777445Z"
    },
    "papermill": {
     "duration": 0.037496,
     "end_time": "2024-07-22T09:53:21.780937",
     "exception": false,
     "start_time": "2024-07-22T09:53:21.743441",
     "status": "completed"
    },
    "tags": []
   },
   "outputs": [],
   "source": [
    "options_oidc_auth = {'cluster_id':'cluster-id',\n",
    "                'endpoint':os.environ[\"OSCAR_ENDPOINT\"],\n",
    "                'shortname':'oscar-egi',\n",
    "                'ssl':'True'}\n",
    "\n",
    "client = Client(options = options_oidc_auth)"
   ]
  },
  {
   "cell_type": "markdown",
   "id": "69a6cfe1-85bd-416e-b456-6c5e25a99624",
   "metadata": {},
   "source": [
    "### Delete services:"
   ]
  },
  {
   "cell_type": "code",
   "execution_count": 3,
   "id": "543e0d9d-1af3-44ea-9019-74effbecd456",
   "metadata": {
    "execution": {
     "iopub.execute_input": "2024-07-22T09:53:21.869360Z",
     "iopub.status.busy": "2024-07-22T09:53:21.868839Z",
     "iopub.status.idle": "2024-07-22T09:53:22.352934Z",
     "shell.execute_reply": "2024-07-22T09:53:22.351676Z"
    },
    "papermill": {
     "duration": 0.51219,
     "end_time": "2024-07-22T09:53:22.356481",
     "exception": true,
     "start_time": "2024-07-22T09:53:21.844291",
     "status": "failed"
    },
    "tags": []
   },
   "outputs": [],
   "source": [
    "response = client.remove_service(\"cowsay\")\n",
    "response = client.remove_service(\"plant-classification-sync\")\n",
    "response = client.remove_service(\"body-pose-detection-async\")"
   ]
  }
 ],
 "metadata": {
  "kernelspec": {
   "display_name": "Python 3 (ipykernel)",
   "language": "python",
   "name": "python3"
  },
  "language_info": {
   "codemirror_mode": {
    "name": "ipython",
    "version": 3
   },
   "file_extension": ".py",
   "mimetype": "text/x-python",
   "name": "python",
   "nbconvert_exporter": "python",
   "pygments_lexer": "ipython3",
   "version": "3.11.6"
  },
  "papermill": {
   "default_parameters": {},
   "duration": 2.607599,
   "end_time": "2024-07-22T09:53:22.805938",
   "environment_variables": {},
   "exception": true,
   "input_path": "/mnt/home/04.-resetOSCAR.ipynb",
   "output_path": "/mnt/home/04.-resetOSCAR.ipynb",
   "parameters": {},
   "start_time": "2024-07-22T09:53:20.198339",
   "version": "2.6.0"
  }
 },
 "nbformat": 4,
 "nbformat_minor": 5
}
